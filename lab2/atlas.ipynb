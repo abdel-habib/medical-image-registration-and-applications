{
 "cells": [
  {
   "cell_type": "code",
   "execution_count": null,
   "metadata": {},
   "outputs": [
    {
     "ename": "",
     "evalue": "",
     "output_type": "error",
     "traceback": [
      "\u001b[1;31mThe kernel failed to start due to the missing module 'asttokens'. Consider installing this module.\n",
      "\u001b[1;31mClick <a href='https://aka.ms/kernelFailuresMissingModule'>here</a> for more info."
     ]
    }
   ],
   "source": [
    "import nibabel as nib\n",
    "import matplotlib.pyplot as plt\n",
    "import os\n",
    "import numpy as np\n",
    "from sklearn.cluster import KMeans\n",
    "from scipy.stats import multivariate_normal\n",
    "from tqdm import tqdm\n",
    "\n",
    "from loguru import logger\n",
    "import pandas as pd"
   ]
  },
  {
   "cell_type": "code",
   "execution_count": null,
   "metadata": {},
   "outputs": [],
   "source": [
    "class NiftiManager:\n",
    "    def __init__(self) -> None:\n",
    "        pass\n",
    "\n",
    "    def load_nifti(self, file_path):\n",
    "        '''Loads the NIfTI image and access the image data as a Numpy array.'''\n",
    "        nii_image = nib.load(file_path)\n",
    "        data_array = nii_image.get_fdata()\n",
    "\n",
    "        return data_array, nii_image\n",
    "\n",
    "    def show_nifti(self, file_data, title, slice=25):\n",
    "        '''Displays a single slice from the nifti volume (change the slice index as needed).'''\n",
    "        plt.imshow(file_data[:, :, slice], cmap='gray')\n",
    "        plt.title(title)\n",
    "        plt.colorbar()\n",
    "        plt.show()\n",
    "\n",
    "    def show_label_seg_nifti(self, label, seg, subject_id, slice=25):\n",
    "        '''Displays both segmentation and ground truth labels as passed to the function.'''\n",
    "        plt.figure(figsize=(20, 7))\n",
    "        \n",
    "        plt.subplot(1, 2, 1)\n",
    "        plt.imshow(label[:, :, slice], cmap='gray') \n",
    "        plt.title(f'Label Image (Subject ID={subject_id})')\n",
    "        plt.colorbar()\n",
    "\n",
    "        plt.subplot(1, 2, 2)\n",
    "        plt.imshow(seg[:, :, slice], cmap='gray') \n",
    "        plt.title(f'Segmentation Image (Subject ID={subject_id})')\n",
    "        plt.colorbar()\n",
    "        plt.show()\n",
    "\n",
    "    def normalize_nifti(self, volume):\n",
    "        '''Performs Min-Max scaling normalization on nifti volumes.'''\n",
    "        # Calculate the minimum and maximum values of the volume\n",
    "        min_val = np.min(volume)\n",
    "        max_val = np.max(volume)\n",
    "\n",
    "        # Perform min-max scaling normalization\n",
    "        normalized_volume = (volume - min_val) / (max_val - min_val)\n",
    "\n",
    "        return normalized_volume\n"
   ]
  }
 ],
 "metadata": {
  "kernelspec": {
   "display_name": "Python 3",
   "language": "python",
   "name": "python3"
  },
  "language_info": {
   "name": "python",
   "version": "3.10.4"
  }
 },
 "nbformat": 4,
 "nbformat_minor": 2
}

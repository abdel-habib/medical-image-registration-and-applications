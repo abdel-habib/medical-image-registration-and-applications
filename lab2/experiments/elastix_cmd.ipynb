{
 "cells": [
  {
   "cell_type": "code",
   "execution_count": 56,
   "metadata": {},
   "outputs": [],
   "source": [
    "import os\n",
    "import subprocess\n",
    "from glob import glob\n",
    "import math\n",
    "from tqdm import tqdm"
   ]
  },
  {
   "cell_type": "markdown",
   "metadata": {},
   "source": [
    "##### Helper functions"
   ]
  },
  {
   "cell_type": "code",
   "execution_count": 66,
   "metadata": {},
   "outputs": [],
   "source": [
    "def excute_cmd(command):\n",
    "    # excute the command\n",
    "    result = subprocess.run(command, stdout=subprocess.PIPE, stderr=subprocess.PIPE, text=True, shell=True)\n",
    "\n",
    "    # Check the return code to see if the command was successful\n",
    "    if result.returncode == 0:\n",
    "        # print(\"Command executed successfully.\")\n",
    "        # print(\"Output:\")\n",
    "        return result.stdout\n",
    "    else:\n",
    "        print(f\"Command failed with an error: {command}\")\n",
    "        print(result.stderr)\n",
    "        return result.stderr\n",
    "\n",
    "def create_directory_if_not_exists(path):\n",
    "    if not os.path.exists(path):\n",
    "        os.makedirs(path)"
   ]
  },
  {
   "cell_type": "code",
   "execution_count": 58,
   "metadata": {},
   "outputs": [
    {
     "name": "stdout",
     "output_type": "stream",
     "text": [
      "elastix version: 5.000\n",
      "\n",
      "elastix registers a moving image to a fixed image.\n",
      "The registration-process is specified in the parameter file.\n",
      "  --help, -h displays this message and exit\n",
      "  --version  output version information and exit\n",
      "  --extended-version  output extended version information and exit\n",
      "\n",
      "Call elastix from the command line with mandatory arguments:\n",
      "  -f        fixed image\n",
      "  -m        moving image\n",
      "  -out      output directory\n",
      "  -p        parameter file, elastix handles 1 or more \"-p\"\n",
      "\n",
      "Optional extra commands:\n",
      "  -fMask    mask for fixed image\n",
      "  -mMask    mask for moving image\n",
      "  -t0       parameter file for initial transform\n",
      "  -priority set the process priority to high, abovenormal, normal (default),\n",
      "            belownormal, or idle (Windows only option)\n",
      "  -threads  set the maximum number of threads of elastix\n",
      "\n",
      "The parameter-file must contain all the information necessary for elastix to run properly. That includes which metric to use, which optimizer, which transform, etc. It must also contain information specific for the metric, optimizer, transform, etc. For a usable parameter-file, see the website.\n",
      "\n",
      "Need further help?\n",
      "Check the website http://elastix.isi.uu.nl, or mail elastix@bigr.nl.\n",
      "\n"
     ]
    }
   ],
   "source": [
    "print(excute_cmd('elastix --help'))"
   ]
  },
  {
   "cell_type": "markdown",
   "metadata": {},
   "source": [
    "#### For us to find the best reference frame (fixed image) among the given datasets, we can measure some image quality and similarity metrics such as mutual information, signal to noise ratio (SNR), image sharpness, etc.."
   ]
  },
  {
   "cell_type": "markdown",
   "metadata": {},
   "source": [
    "#### To start with the similarity metrics, as the mutual information, we need to register all images with all possible combinations to see how well images align with all combinations after the registration. The registration will be done using elastix command line, and some helper functions will be developed to ease the process of excuting and registering all images. "
   ]
  },
  {
   "cell_type": "markdown",
   "metadata": {},
   "source": [
    "For elastix, we need to specify the parameters files, which for our case will be both Par0010affine.txt and Par0010bspline.txt"
   ]
  },
  {
   "cell_type": "code",
   "execution_count": 59,
   "metadata": {},
   "outputs": [],
   "source": [
    "reg_params = '-p \"../Par0010affine.txt\" -p \"../Par0010bspline.txt\"'"
   ]
  },
  {
   "cell_type": "markdown",
   "metadata": {},
   "source": [
    "Lets get all images that we have for training"
   ]
  },
  {
   "cell_type": "code",
   "execution_count": 60,
   "metadata": {},
   "outputs": [
    {
     "name": "stdout",
     "output_type": "stream",
     "text": [
      "Total registrations:  210\n"
     ]
    }
   ],
   "source": [
    "training_path = '../training-set/training-images'\n",
    "\n",
    "training_volumes = sorted(glob(os.path.join(training_path, \"*.nii.gz\"), recursive=True))\n",
    "training_volumes\n",
    "\n",
    "# substract the length as we won't register the images with themselves\n",
    "print('Total registrations: ', len(training_volumes)*len(training_volumes)-len(training_volumes)) "
   ]
  },
  {
   "cell_type": "code",
   "execution_count": 62,
   "metadata": {},
   "outputs": [
    {
     "name": "stderr",
     "output_type": "stream",
     "text": [
      " 13%|█▋           | 2/15 [14:57<1:37:02, 447.92s/it]"
     ]
    },
    {
     "name": "stdout",
     "output_type": "stream",
     "text": [
      "Command failed with an error: elastix -f \"../training-set/training-images\\1002.nii.gz\" -m \"../training-set/training-images\\1006.nii.gz\" -p \"../Par0010affine.txt\" -p \"../Par0010bspline.txt\" -out \"output_1002/1006\"\n",
      "Command failed with an error: elastix -f \"../training-set/training-images\\1002.nii.gz\" -m \"../training-set/training-images\\1017.nii.gz\" -p \"../Par0010affine.txt\" -p \"../Par0010bspline.txt\" -out \"output_1002/1017\"\n"
     ]
    },
    {
     "name": "stderr",
     "output_type": "stream",
     "text": [
      " 20%|██▌          | 3/15 [22:05<1:27:47, 438.97s/it]"
     ]
    },
    {
     "name": "stdout",
     "output_type": "stream",
     "text": [
      "Command failed with an error: elastix -f \"../training-set/training-images\\1006.nii.gz\" -m \"../training-set/training-images\\1002.nii.gz\" -p \"../Par0010affine.txt\" -p \"../Par0010bspline.txt\" -out \"output_1006/1002\"\n"
     ]
    },
    {
     "name": "stderr",
     "output_type": "stream",
     "text": [
      " 27%|███▍         | 4/15 [29:12<1:19:35, 434.09s/it]"
     ]
    },
    {
     "name": "stdout",
     "output_type": "stream",
     "text": [
      "Command failed with an error: elastix -f \"../training-set/training-images\\1007.nii.gz\" -m \"../training-set/training-images\\1002.nii.gz\" -p \"../Par0010affine.txt\" -p \"../Par0010bspline.txt\" -out \"output_1007/1002\"\n"
     ]
    },
    {
     "name": "stderr",
     "output_type": "stream",
     "text": [
      " 80%|█████████▌  | 12/15 [1:29:20<23:04, 461.54s/it]"
     ]
    },
    {
     "name": "stdout",
     "output_type": "stream",
     "text": [
      "Command failed with an error: elastix -f \"../training-set/training-images\\1015.nii.gz\" -m \"../training-set/training-images\\1002.nii.gz\" -p \"../Par0010affine.txt\" -p \"../Par0010bspline.txt\" -out \"output_1015/1002\"\n"
     ]
    },
    {
     "name": "stderr",
     "output_type": "stream",
     "text": [
      " 93%|███████████▏| 14/15 [1:44:46<07:42, 462.62s/it]"
     ]
    },
    {
     "name": "stdout",
     "output_type": "stream",
     "text": [
      "Command failed with an error: elastix -f \"../training-set/training-images\\1036.nii.gz\" -m \"../training-set/training-images\\1002.nii.gz\" -p \"../Par0010affine.txt\" -p \"../Par0010bspline.txt\" -out \"output_1036/1002\"\n"
     ]
    },
    {
     "name": "stderr",
     "output_type": "stream",
     "text": [
      "100%|████████████| 15/15 [1:53:13<00:00, 452.87s/it]\n"
     ]
    }
   ],
   "source": [
    "for fixed in tqdm(training_volumes):\n",
    "    for moving in training_volumes:\n",
    "        if fixed == moving: # to not register the image with its self\n",
    "            continue\n",
    "            \n",
    "        # We register here, every image will be registered with all combinations except its self\n",
    "        reg_fixed  = fixed\n",
    "        reg_moving = moving\n",
    "\n",
    "        # Get the names of the fixed and moving images for the output directory, names without the file extensions\n",
    "        reg_fixed_name  = reg_fixed.split(\"\\\\\")[-1].split(\".\")[0]\n",
    "        reg_moving_name = reg_moving.split(\"\\\\\")[-1].split(\".\")[0]\n",
    "        \n",
    "        # create an output folder using the image name in the output/images directory\n",
    "        # output folders structures\n",
    "        # output_{fixed_img_name}/{moving_image_name}/\n",
    "        output_dir = f'output_{reg_fixed_name}/{reg_moving_name}'\n",
    "\n",
    "        # creates the output directory\n",
    "        create_directory_if_not_exists(output_dir)\n",
    "\n",
    "        # create elastix command line\n",
    "        command_line = f'elastix -f \"{reg_fixed}\" -m \"{reg_moving}\" {reg_params} -out \"{output_dir}\"'\n",
    "\n",
    "        # run elastix on all combinations\n",
    "        excute_cmd(command_line)"
   ]
  },
  {
   "cell_type": "markdown",
   "metadata": {},
   "source": [
    "Some commands has failed, repeating them manually to make sure all combinations were registered"
   ]
  },
  {
   "cell_type": "code",
   "execution_count": 67,
   "metadata": {},
   "outputs": [
    {
     "name": "stdout",
     "output_type": "stream",
     "text": [
      "Command failed with an error: elastix -f \"../training-set/training-images/1002.nii.gz\" -m \"../training-set/training-images/1006.nii.gz\" -p \"../Par0010affine.txt\" -p \"../Par0010bspline.txt\" -out \"output_1002/1006\"\n",
      "\n",
      "\n"
     ]
    }
   ],
   "source": [
    "# create elastix command line\n",
    "command_line = r'elastix -f \"../training-set/training-images/1002.nii.gz\" -m \"../training-set/training-images/1006.nii.gz\" -p \"../Par0010affine.txt\" -p \"../Par0010bspline.txt\" -out \"output_1002/1006\"'\n",
    "\n",
    "# run elastix on all combinations\n",
    "print(excute_cmd(command_line))"
   ]
  }
 ],
 "metadata": {
  "kernelspec": {
   "display_name": "Python 3 (ipykernel)",
   "language": "python",
   "name": "python3"
  },
  "language_info": {
   "codemirror_mode": {
    "name": "ipython",
    "version": 3
   },
   "file_extension": ".py",
   "mimetype": "text/x-python",
   "name": "python",
   "nbconvert_exporter": "python",
   "pygments_lexer": "ipython3",
   "version": "3.10.4"
  }
 },
 "nbformat": 4,
 "nbformat_minor": 4
}
